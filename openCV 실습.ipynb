{
 "cells": [
  {
   "cell_type": "markdown",
   "id": "38c6c53d",
   "metadata": {},
   "source": [
    "## 목차\n",
    "- 이미지 불러와서 출력하기\n",
    "- 이미지변형(흑백): cvtColor\n",
    "- 이미지변형(이진화): threshold, createTrackbar, getTrackbarPos\n",
    "- 이미지변형(흐림): GaussianBlur\n",
    "- 이미지변형(원근): getPerspectiveTransform, warpPerspective\n",
    "- 키보드이벤트\n",
    "- 마우스이벤트\n",
    "- 반자동 문서 스캐너\n",
    "- 엣지 검출\n",
    "- 직선 검출\n",
    "\n"
   ]
  },
  {
   "cell_type": "markdown",
   "id": "c5463042",
   "metadata": {},
   "source": [
    "## 이미지 불러와서 출력하기"
   ]
  },
  {
   "cell_type": "code",
   "execution_count": 58,
   "id": "a415d0c9",
   "metadata": {},
   "outputs": [
    {
     "data": {
      "text/plain": [
       "<function destroyAllWindows>"
      ]
     },
     "execution_count": 58,
     "metadata": {},
     "output_type": "execute_result"
    }
   ],
   "source": [
    "import cv2\n",
    "img=cv2.imread('Desktop/lenna.png')\n",
    "cv2.imshow('title',img)\n",
    "cv2.waitKey(0)\n",
    "cv2.destroyAllWindows #윈도우창 닫음"
   ]
  },
  {
   "cell_type": "code",
   "execution_count": 6,
   "id": "842c3a86",
   "metadata": {},
   "outputs": [
    {
     "data": {
      "text/plain": [
       "(512, 512, 3)"
      ]
     },
     "execution_count": 6,
     "metadata": {},
     "output_type": "execute_result"
    }
   ],
   "source": [
    "img.shape"
   ]
  },
  {
   "cell_type": "markdown",
   "id": "9d40f35a",
   "metadata": {},
   "source": [
    "크기가 512x512고 3개의 색상정보를 갖는 이미지임, 채널이 1이면 단색, 3이면 다색 이미지임"
   ]
  },
  {
   "cell_type": "code",
   "execution_count": 113,
   "id": "b4b6b025",
   "metadata": {},
   "outputs": [],
   "source": [
    "import cv2\n",
    "\n",
    "img=cv2.imread('Desktop/seoulriver.jpg', cv2.IMREAD_GRAYSCALE)\n",
    "\n",
    "cv2.namedWindow('origin') #origin이라는 이름의 창을 생성\n",
    "cv2.imshow('origin', img) #origin이라는 창에 img를 표시\n",
    "cv2.resizeWindow('origin', 1000, 500) #origin이라는 창의 사이즈를 변경\n",
    "cv2.moveWindow('origin', 0, 0) #origin이라는 창의 위치를 변경\n",
    "\n",
    "cv2.waitKey(0) #키보드 입력이 있을 때까지 대기하다가, 아무키를 누르면\n",
    "cv2.destroyAllWindows() #모든 윈도우창 닫음"
   ]
  },
  {
   "cell_type": "markdown",
   "id": "4df7770c",
   "metadata": {},
   "source": [
    "## 이미지변형(흑백): cvtColor"
   ]
  },
  {
   "cell_type": "code",
   "execution_count": 59,
   "id": "b1f92209",
   "metadata": {},
   "outputs": [],
   "source": [
    "import cv2\n",
    "img=cv2.imread('Desktop/lenna.png')\n",
    "gray=cv2.cvtColor(img, cv2.COLOR_BGR2GRAY) #bgr에서 gray로 색변환함\n",
    "\n",
    "cv2.imshow('color',img)\n",
    "cv2.imshow('gray',gray)\n",
    "cv2.waitKey(0)\n",
    "cv2.destroyAllWindows()"
   ]
  },
  {
   "cell_type": "code",
   "execution_count": 61,
   "id": "ed52811e",
   "metadata": {},
   "outputs": [],
   "source": [
    "import cv2\n",
    "img=cv2.imread('Desktop/lenna.png', cv2.IMREAD_GRAYSCALE)\n",
    "\n",
    "cv2.imshow('lenna',img)\n",
    "cv2.waitKey(0)\n",
    "cv2.destroyAllWindows()"
   ]
  },
  {
   "cell_type": "markdown",
   "id": "e13e3e9c",
   "metadata": {},
   "source": [
    "- cv2.IMREAD_COLOR: 이미지를 읽을 때 컬러로 읽음, 디폴트, 투명영역은 무시\n",
    "- cv2.IMREAD_GRAYSCALE: 흑백\n",
    "- cv2.IMREAD_UNCHANGED: 투명영역 포함"
   ]
  },
  {
   "cell_type": "markdown",
   "id": "7438f74d",
   "metadata": {},
   "source": [
    "## 이미지변형(이진화): threshold, createTrackbar, getTrackbarPos"
   ]
  },
  {
   "cell_type": "markdown",
   "id": "ac1af734",
   "metadata": {},
   "source": [
    "step1. threshold 함수 적용"
   ]
  },
  {
   "cell_type": "code",
   "execution_count": 73,
   "id": "656e7ff7",
   "metadata": {},
   "outputs": [
    {
     "data": {
      "text/plain": [
       "<function destroyAllWindows>"
      ]
     },
     "execution_count": 73,
     "metadata": {},
     "output_type": "execute_result"
    }
   ],
   "source": [
    "import cv2\n",
    "src=cv2.imread('Desktop/lenna.png')\n",
    "gray=cv2.cvtColor(src, cv2.COLOR_BGR2GRAY)\n",
    "ret,dst100=cv2.threshold(gray, 100, 255, cv2.THRESH_BINARY) #소스이미지, 임계값, 최대값, 타입\n",
    "ret,dst50=cv2.threshold(gray, 50, 255, cv2.THRESH_BINARY)\n",
    "cv2.imshow('gray',gray)\n",
    "cv2.imshow('dst100',dst100)\n",
    "cv2.imshow('dst50',dst50) #임계값을 낮출수록 사진이 많이 날아감(=많이 어두운 부분도 하얗게 처리됨)\n",
    "cv2.waitKey()\n",
    "cv2.destroyAllWindows"
   ]
  },
  {
   "cell_type": "markdown",
   "id": "e3e94ec0",
   "metadata": {},
   "source": [
    "threshold()의 return값은 2개임, 임계값(return value)과 결과이미지(destination)\n",
    "\n",
    "threshold_binary 타입은 픽셀이 임계값보다 크면 최대값(maxval)으로 바꾸고, 이하면 0으로 변경함(=까맣게 처리)"
   ]
  },
  {
   "cell_type": "code",
   "execution_count": 63,
   "id": "9d1635d9",
   "metadata": {},
   "outputs": [
    {
     "data": {
      "text/plain": [
       "50.0"
      ]
     },
     "execution_count": 63,
     "metadata": {},
     "output_type": "execute_result"
    }
   ],
   "source": [
    "ret"
   ]
  },
  {
   "cell_type": "markdown",
   "id": "1c47e876",
   "metadata": {},
   "source": [
    "step2. 임계값 변화에 따른 이미지의 변형을 확인"
   ]
  },
  {
   "cell_type": "code",
   "execution_count": 92,
   "id": "fbe13d54",
   "metadata": {},
   "outputs": [],
   "source": [
    "import cv2\n",
    "img=cv2.imread('Desktop/lenna.png', cv2.IMREAD_GRAYSCALE)\n",
    "\n",
    "def empty(pos): #트랙바의 slide값이 바뀔 때 호출되는 콜백함수, 트랙바 위치를 반환함\n",
    "    #print(pos)\n",
    "    pass\n",
    "\n",
    "#새로운 윈도우창을 만들고, 트랙바를 생성함\n",
    "name='track'\n",
    "cv2.namedWindow(name)\n",
    "cv2.createTrackbar('threshold', name, 100, 255, empty)\n",
    "\n",
    "#트랙바의 값을 받아와서, 임계값에 따라 흑백이미지를 이진화하고, 출력하는 것을 무한반복\n",
    "while True:\n",
    "    thresh=cv2.getTrackbarPos('threshold', name)\n",
    "    ret,dst=cv2.threshold(gray, thresh, 255, cv2.THRESH_BINARY)\n",
    "    cv2.imshow(name, dst)\n",
    "    if cv2.waitKey(1)==ord('q'): break #사용자가 q를 누르면 반복문 종료\n",
    "\n",
    "cv2.destroyAllWindows()"
   ]
  },
  {
   "cell_type": "markdown",
   "id": "0d054a87",
   "metadata": {},
   "source": [
    "createTrackbar(트랙바 이름, 윈도우창 이름, 초기값, 최대값(최솟값은 항상 0), 콜백함수)\n",
    "\n",
    "getTrackbarPos(트랙바 이름, 윈도우창 이름)"
   ]
  },
  {
   "cell_type": "markdown",
   "id": "23e30cf1",
   "metadata": {},
   "source": [
    "## 이미지변형(흐림): GaussianBlur"
   ]
  },
  {
   "cell_type": "code",
   "execution_count": 83,
   "id": "fb93e335",
   "metadata": {},
   "outputs": [],
   "source": [
    "img=cv2.imread('Desktop/lenna.png')\n",
    "kernel3=cv2.GaussianBlur(img, (3,3), 0)\n",
    "kernel5=cv2.GaussianBlur(img, (5,5), 0)\n",
    "kernel7=cv2.GaussianBlur(img, (7,7), 0)\n",
    "\n",
    "cv2.imshow('img',img)\n",
    "cv2.imshow('kernel3',kernel3)\n",
    "cv2.imshow('kernel5',kernel5)\n",
    "cv2.imshow('kernel7',kernel7) #커널사이즈가 커질 수록 블러효과가 강해짐\n",
    "cv2.waitKey(0)\n",
    "cv2.destroyAllWindows()"
   ]
  },
  {
   "cell_type": "markdown",
   "id": "a2208cba",
   "metadata": {},
   "source": [
    "## 이미지변형(원근)"
   ]
  },
  {
   "cell_type": "markdown",
   "id": "fa6b1c7c",
   "metadata": {},
   "source": [
    "사다리꼴 이미지(뉴스) 펼치기"
   ]
  },
  {
   "cell_type": "code",
   "execution_count": 15,
   "id": "01198dd6",
   "metadata": {},
   "outputs": [],
   "source": [
    "import cv2\n",
    "import numpy as np\n",
    "\n",
    "img=cv2.imread('Desktop/newspaper.jpg')\n",
    "\n",
    "width, height= 600, 200\n",
    "\n",
    "#시계방향으로 4개 지점 (좌상,우상,우하,좌하)\n",
    "src=np.array([[440,326], [1038,489], [1005,683], [308,422]], dtype=np.float32)\n",
    "dst=np.array([[0,0],[width,0], [width,height], [0,height]], dtype=np.float32)\n",
    "\n",
    "matrix=cv2.getPerspectiveTransform(src, dst) #소스영역을 목적지영역으로 변환\n",
    "result=cv2.warpPerspective(img, matrix, (width,height))\n",
    "\n",
    "cv2.imshow('orininal',img)\n",
    "cv2.imshow('img',result)\n",
    "cv2.waitKey(0)\n",
    "cv2.destroyAllWindows()"
   ]
  },
  {
   "cell_type": "markdown",
   "id": "73008338",
   "metadata": {},
   "source": [
    "회전된 이미지(카드) 세우기"
   ]
  },
  {
   "cell_type": "code",
   "execution_count": null,
   "id": "e63fbcb4",
   "metadata": {},
   "outputs": [],
   "source": [
    "import cv2\n",
    "import numpy as np\n",
    "\n",
    "img=cv2.imread('Desktop/poker.jpg')\n",
    "\n",
    "width, height= 240,380\n",
    "src=np.array([[795,103], [1197,307], [893,969], [461,751]], dtype=np.float32)\n",
    "dst=np.array([[0,0],[width,0], [width,height], [0,height]], dtype=np.float32)\n",
    "\n",
    "matrix=cv2.getPerspectiveTransform(src, dst) #소스영역을 목적지영역으로 변환\n",
    "result=cv2.warpPerspective(img, matrix, (width,height))\n",
    "\n",
    "cv2.imshow('orininal',img)\n",
    "cv2.imshow('img',result)\n",
    "cv2.waitKey(0)\n",
    "cv2.destroyAllWindows()"
   ]
  },
  {
   "cell_type": "markdown",
   "id": "d4f73f31",
   "metadata": {},
   "source": [
    "## 키보드이벤트"
   ]
  },
  {
   "cell_type": "code",
   "execution_count": 1,
   "id": "0f46c067",
   "metadata": {},
   "outputs": [
    {
     "name": "stdout",
     "output_type": "stream",
     "text": [
      "h\n",
      "j\n",
      "k\n",
      "l\n",
      "q\n"
     ]
    }
   ],
   "source": [
    "import cv2\n",
    "\n",
    "img=cv2.imread('Desktop/seoulriver.jpg')\n",
    "x,y=100,100\n",
    "\n",
    "while True:\n",
    "    cv2.imshow('img', img)\n",
    "    cv2.moveWindow('img', x,y)\n",
    "    key=cv2.waitKey(0) & 0xFF #키보드 입력값을 저장하는 변수\n",
    "    print(chr(key))\n",
    "\n",
    "    if key==ord('h'): x-=10   #h키를 누르면 x방향으로 -10만큼 이동\n",
    "    elif key==ord('j'): y+=10\n",
    "    elif key==ord('k'): y-=10\n",
    "    elif key==ord('l'): x+=10\n",
    "    elif key==ord('q'): break; cv2.destroyAllWindows()\n",
    "    \n",
    "    cv2.moveWindow('img', x,y)"
   ]
  },
  {
   "cell_type": "markdown",
   "id": "756fc2b4",
   "metadata": {},
   "source": [
    "## 마우스이벤트"
   ]
  },
  {
   "cell_type": "code",
   "execution_count": 1,
   "id": "f60c6706",
   "metadata": {
    "scrolled": true
   },
   "outputs": [
    {
     "name": "stdout",
     "output_type": "stream",
     "text": [
      "왼버튼 down\n",
      "794 251\n",
      "왼버튼 up\n",
      "1051 314\n",
      "왼버튼 down\n",
      "954 144\n",
      "왼버튼 up\n",
      "954 144\n",
      "왼버튼 double click\n",
      "왼버튼 up\n",
      "954 144\n"
     ]
    }
   ],
   "source": [
    "import cv2\n",
    "\n",
    "def mouse_handler(event, x,y, flags, param): #이벤트처리를 위한 콜백함수\n",
    "    if event==cv2.EVENT_LBUTTONDOWN:\n",
    "        print('왼버튼 down')\n",
    "        print(x,y) #마우스좌표(파라미터)를 출력함\n",
    "    elif event==cv2.EVENT_LBUTTONUP:\n",
    "        print('왼버튼 up')\n",
    "        print(x,y)\n",
    "    elif event==cv2.EVENT_LBUTTONDBLCLK: #더블클릭은 down, up, dblclk, up이 한세트\n",
    "        print('왼버튼 double click')\n",
    "    elif event==cv2.EVENT_RBUTTONDOWN:\n",
    "        print('오른버튼 down')\n",
    "        print(x,y)\n",
    "    elif event==cv2.EVENT_RBUTTONUP:\n",
    "        print('오른버튼 up')\n",
    "        print(x,y) \n",
    "    pass\n",
    "\n",
    "img=cv2.imread('Desktop/poker.jpg')\n",
    "cv2.namedWindow('img')\n",
    "cv2.setMouseCallback('img', mouse_handler) #마우스 콜백함수를 설정함\n",
    "cv2.imshow('img', img)\n",
    "cv2.waitKey(0)\n",
    "cv2.destroyAllWindows()"
   ]
  },
  {
   "cell_type": "markdown",
   "id": "f3bde2a2",
   "metadata": {},
   "source": [
    "event에는 cv2.EVENT_로 시작하는 12가지 이벤트가 있음\n",
    "\n",
    "flags는 cv2.EVENT_FLAG_로 시작하고 ctrl, shift, alt키를 누른 것처럼 이벤트 처리함, flags와 param을 사용하지 않더라도 선언해야 함"
   ]
  },
  {
   "cell_type": "markdown",
   "id": "cd209118",
   "metadata": {},
   "source": [
    "## 반자동 문서 스캐너"
   ]
  },
  {
   "cell_type": "markdown",
   "id": "32cfc15b",
   "metadata": {},
   "source": [
    "step1. 점 찍기"
   ]
  },
  {
   "cell_type": "code",
   "execution_count": 17,
   "id": "36151c28",
   "metadata": {},
   "outputs": [],
   "source": [
    "import cv2\n",
    "import numpy as np\n",
    "\n",
    "src_img=cv2.imread('Desktop/poker.jpg') #이미지 불러오기\n",
    "src_img=cv2.resize(src_img, (486,600)) #이미지 사이즈 바꾸기\n",
    "\n",
    "points=[] #마우스가 클릭한 점의 좌표를 저장할 리스트\n",
    "bgr=(100,200,300)\n",
    "\n",
    "def mouse_handler(event, x,y, flags, param):\n",
    "    if event==cv2.EVENT_LBUTTONDOWN: points.append((x,y)) #왼버튼 눌리면 좌표추가\n",
    "    for i in points:\n",
    "        cv2.circle(src_img, i, 5, bgr, cv2.FILLED) #이미지, 중심점, 반지름, 색깔, 채움\n",
    "    cv2.imshow('img', src_img)\n",
    "    if len(points)==4: show_result() #점이 4개 찍히면 결과출력\n",
    "\n",
    "def show_result():\n",
    "    width, height= 240,380\n",
    "    src=np.float32(points)\n",
    "    dst=np.array([[0,0],[width,0], [width,height], [0,height]], dtype=np.float32)\n",
    "    matrix=cv2.getPerspectiveTransform(src,dst) #sorce를 destination으로\n",
    "    result=cv2.warpPerspective(src_img, matrix, (width,height))\n",
    "    cv2.imshow('result', result)\n",
    "\n",
    "cv2.namedWindow('img')\n",
    "cv2.setMouseCallback('img', mouse_handler)\n",
    "cv2.imshow('img', src_img)\n",
    "cv2.waitKey(0)\n",
    "cv2.destroyAllWindows()"
   ]
  },
  {
   "cell_type": "markdown",
   "id": "2bbab1de",
   "metadata": {},
   "source": [
    "step2. 선 긋기"
   ]
  },
  {
   "cell_type": "code",
   "execution_count": 40,
   "id": "452bb076",
   "metadata": {},
   "outputs": [],
   "source": [
    "import cv2\n",
    "import numpy as np\n",
    "\n",
    "src_img=cv2.imread('Desktop/poker.jpg')\n",
    "src_img=cv2.resize(src_img, (486,600))\n",
    "\n",
    "points=[]\n",
    "COLOR=(255,0,255) #BGR 기준으로 b=255, r=255, 핑크색\n",
    "THICKNESS=3\n",
    "drawing=False #선을 그릴지 여부 판단\n",
    "\n",
    "def mouse_handler(event, x,y, flags, param):\n",
    "    global drawing\n",
    "    if event==cv2.EVENT_LBUTTONDOWN:\n",
    "        drawing=True #선을 그리기 시작\n",
    "        points.append((x,y))\n",
    "\n",
    "    if drawing:\n",
    "        prev_point=None\n",
    "        for i in points:\n",
    "            cv2.circle(src_img, i, 5, COLOR, cv2.FILLED)\n",
    "            if prev_point:\n",
    "                cv2.line(src_img, prev_point, i, COLOR, THICKNESS, cv2.LINE_AA) #이미지, 시작점, 끝점, 색깔, 두께, 선을 부드럽게\n",
    "            prev_point=i\n",
    "\n",
    "        if len(points)==4:\n",
    "            show_result()\n",
    "            \n",
    "    cv2.imshow('img', src_img)\n",
    "        \n",
    "def show_result():\n",
    "    width, height= 240,380\n",
    "    src=np.float32(points)\n",
    "    dst=np.array([[0,0],[width,0], [width,height], [0,height]], dtype=np.float32)\n",
    "    matrix=cv2.getPerspectiveTransform(src, dst)\n",
    "    result=cv2.warpPerspective(src_img, matrix, (width,height))\n",
    "    cv2.imshow('result',result)\n",
    "    \n",
    "cv2.namedWindow('img')\n",
    "cv2.setMouseCallback('img',mouse_handler)\n",
    "cv2.imshow('img', src)\n",
    "cv2.waitKey(0)\n",
    "cv2.destroyAllWindows()"
   ]
  },
  {
   "cell_type": "markdown",
   "id": "f941f6f3",
   "metadata": {},
   "source": [
    "step3. 실시간으로 선 긋기"
   ]
  },
  {
   "cell_type": "code",
   "execution_count": 48,
   "id": "fb1d82aa",
   "metadata": {},
   "outputs": [],
   "source": [
    "import cv2\n",
    "import numpy as np\n",
    "\n",
    "src_img=cv2.imread('Desktop/poker.jpg')\n",
    "src_img=cv2.resize(src_img, (486,600))\n",
    "\n",
    "points=[]\n",
    "COLOR=(255,0,255)\n",
    "THICKNESS=3\n",
    "drawing=False\n",
    "\n",
    "def mouse_handler(event, x,y, flags, param):\n",
    "    global drawing\n",
    "    dst_img=src_img.copy()\n",
    "    \n",
    "    #왼버튼이 눌리면 drawing을 시작하고 해당 좌표를 points에 저장함\n",
    "    if event==cv2.EVENT_LBUTTONDOWN:\n",
    "        drawing=True\n",
    "        points.append((x,y))\n",
    "\n",
    "    if drawing:\n",
    "        prev_point=None\n",
    "        \n",
    "        #points에 저장된 모든 좌표에 대해, 점을 찍고 점들끼리 이어주는 부분\n",
    "        for i in points:\n",
    "            cv2.circle(dst_img, i, 5, COLOR, cv2.FILLED)\n",
    "            if prev_point:\n",
    "                cv2.line(dst_img, prev_point, i, COLOR, THICKNESS, cv2.LINE_AA)\n",
    "            prev_point=i\n",
    "        \n",
    "        #마지막 점에서 다음점(=현재 마우스의 위치)까지 선을 이어주는 부분\n",
    "        next_point=(x,y)\n",
    "        if len(points)==4: #점이 4개 다 찍혔다면 다음점은 첫번째 점\n",
    "            show_result()\n",
    "            next_point=points[0]\n",
    "        cv2.line(dst_img, prev_point, next_point, COLOR, THICKNESS, cv2.LINE_AA)\n",
    "        \n",
    "    cv2.imshow('img', dst_img)\n",
    "        \n",
    "def show_result():\n",
    "    width, height= 240, 380\n",
    "    src=np.float32(points)\n",
    "    dst=np.array([[0,0],[width,0], [width,height], [0,height]], dtype=np.float32)\n",
    "    matrix=cv2.getPerspectiveTransform(src, dst)\n",
    "    result=cv2.warpPerspective(src_img, matrix, (width,height))\n",
    "    cv2.imshow('result',result)\n",
    "    \n",
    "cv2.namedWindow('img')\n",
    "cv2.setMouseCallback('img',mouse_handler)\n",
    "cv2.imshow('img', src)\n",
    "cv2.waitKey(0)\n",
    "cv2.destroyAllWindows()"
   ]
  },
  {
   "cell_type": "markdown",
   "id": "fd4ca337",
   "metadata": {},
   "source": [
    "## 엣지 검출"
   ]
  },
  {
   "cell_type": "code",
   "execution_count": 18,
   "id": "104df5a3",
   "metadata": {},
   "outputs": [],
   "source": [
    "import cv2\n",
    "src=cv2.imread('Desktop/poker.jpg')\n",
    "src=cv2.resize(src, (450,400))\n",
    "gray=cv2.cvtColor(src, cv2.COLOR_BGR2GRAY)\n",
    "\n",
    "\n",
    "sobel=cv2.Sobel(gray, cv2.CV_8U, 1,0,3) #입력이미지, dx, dy, 커널크기(최대 31의 홀수)\n",
    "laplacian=cv2.Laplacian(gray, cv2.CV_8U, ksize=3)\n",
    "canny=cv2.Canny(src, 100, 255)\n",
    "\n",
    "cv2.imshow('src',src)\n",
    "cv2.imshow('soble',sobel)\n",
    "cv2.imshow('laplician',laplacian)\n",
    "cv2.imshow('canny',canny)\n",
    "cv2.waitKey(0)\n",
    "cv2.destroyAllWindows()"
   ]
  },
  {
   "cell_type": "markdown",
   "id": "2265d898",
   "metadata": {},
   "source": [
    "- 소벨: 인접한 픽셀의 gradient를 계산하기 위해 convolution 연산을 수행함\n",
    "\n",
    "- 라플라시안: 엣지가 밝은 부분과 어더운 부분 중 어디에서 발생했는지 알 수 있음\n",
    "\n",
    "- 캐니: 하위임계값과 상위임계값을 설정해, 픽셀이 상위임계값보다 큰 기울기를 가지면 가장자리로 간주함, L1과 L2-norm 중 무엇으로 gradient를 계산할지 선택할 수 있음(L1은 속도는 빠르지만 정확도가 떨어짐)"
   ]
  },
  {
   "cell_type": "markdown",
   "id": "5b6e9346",
   "metadata": {},
   "source": [
    "## 직선 검출: HoughLines"
   ]
  },
  {
   "cell_type": "code",
   "execution_count": 15,
   "id": "0c16414f",
   "metadata": {},
   "outputs": [],
   "source": [
    "import cv2\n",
    "import numpy as np\n",
    "\n",
    "src=cv2.imread('Desktop/road.jpg')\n",
    "dst=src.copy()\n",
    "gray=cv2.cvtColor(src, cv2.COLOR_BGR2GRAY)"
   ]
  },
  {
   "cell_type": "code",
   "execution_count": 16,
   "id": "5c5a4b1b",
   "metadata": {},
   "outputs": [],
   "source": [
    "canny=cv2.Canny(src, 5000,1500, apertureSize=5, L2gradient=True)\n",
    "lines=cv2.HoughLines(canny, 0.8, np.pi/180, 150, srn=100, stn=200, min_theta=0, max_theta=np.pi)"
   ]
  },
  {
   "cell_type": "markdown",
   "id": "79a5cbe3",
   "metadata": {},
   "source": [
    "- 임계값을 5000, 1500로 설정해 주요한 가장자리만 남김, 커널크기는 5, L2 norm을 \n",
    "- 검출할 이미지, 거리(0.0\\~1.0), 각도(0~180), 임계값, <U>거리약수, 각도약수</U>(0이면 표준허프변환), <U>최소각도, 최대각도</U>(검출각도의 범위를 설정)\n"
   ]
  },
  {
   "cell_type": "code",
   "execution_count": 14,
   "id": "bd492278",
   "metadata": {},
   "outputs": [
    {
     "data": {
      "text/plain": [
       "array([[[317.2      ,   1.5707964]],\n",
       "\n",
       "       [[487.6      ,   1.1693705]],\n",
       "\n",
       "       [[482.80002  ,   1.1868238]],\n",
       "\n",
       "       [[ 92.4      ,   1.9722221]],\n",
       "\n",
       "       [[ 95.6      ,   1.9722221]],\n",
       "\n",
       "       [[ 80.4      ,   1.9896753]],\n",
       "\n",
       "       [[318.80002  ,   1.5707964]]], dtype=float32)"
      ]
     },
     "execution_count": 14,
     "metadata": {},
     "output_type": "execute_result"
    }
   ],
   "source": [
    "lines"
   ]
  },
  {
   "cell_type": "markdown",
   "id": "977fee13",
   "metadata": {},
   "source": [
    "직선일 가능성이 높은 거리와 각도가 저장돼있음"
   ]
  },
  {
   "cell_type": "code",
   "execution_count": 17,
   "id": "a61eea78",
   "metadata": {},
   "outputs": [],
   "source": [
    "for i in lines:\n",
    "    rho, theta=i[0][0], i[0][1]\n",
    "    a,b=np.cos(theta), np.sin(theta)\n",
    "    x0,y0=a*rho,b*rho\n",
    "    scale=src.shape[0]+src.shape[1]\n",
    "    \n",
    "    x1 = int(x0 + scale*-b) #(x0,y0)을 평행이동시켜서 이미지 밖의 (x1,y1), (x2,y2)를 할당함->직선을 그림\n",
    "    y1 = int(y0 + scale*a)\n",
    "    x2 = int(x0 - scale*-b)\n",
    "    y2 = int(y0 - scale*a)\n",
    "    \n",
    "    cv2.line(dst, (x1,y1), (x2,y2), (0,0,255), 2) #dst 위에 두 좌표를 연결하는 선을 빨간색으로 그림\n",
    "    #cv2.circle(dst, (x0,y0), 3, (255,0,0), cv2.FILLED)\n",
    "    \n",
    "cv2.imshow('dst',dst)\n",
    "cv2.waitKey(0)\n",
    "cv2.destroyAllWindows()"
   ]
  },
  {
   "cell_type": "code",
   "execution_count": null,
   "id": "b89924fc",
   "metadata": {},
   "outputs": [],
   "source": []
  },
  {
   "cell_type": "code",
   "execution_count": null,
   "id": "e683c679",
   "metadata": {},
   "outputs": [],
   "source": []
  }
 ],
 "metadata": {
  "kernelspec": {
   "display_name": "Python 3 (ipykernel)",
   "language": "python",
   "name": "python3"
  },
  "language_info": {
   "codemirror_mode": {
    "name": "ipython",
    "version": 3
   },
   "file_extension": ".py",
   "mimetype": "text/x-python",
   "name": "python",
   "nbconvert_exporter": "python",
   "pygments_lexer": "ipython3",
   "version": "3.9.7"
  }
 },
 "nbformat": 4,
 "nbformat_minor": 5
}
